{
 "cells": [
  {
   "cell_type": "code",
   "execution_count": 1,
   "id": "59f265b1",
   "metadata": {},
   "outputs": [],
   "source": [
    "import pandas as pd\n",
    "import re\n",
    "from tempfile import TemporaryFile\n",
    "import numpy as np"
   ]
  },
  {
   "cell_type": "markdown",
   "id": "fe5d69cd",
   "metadata": {},
   "source": [
    "# Data cleaning. Remove capitalization, special characters, and duplicate rows"
   ]
  },
  {
   "cell_type": "code",
   "execution_count": 2,
   "id": "6fc07a67",
   "metadata": {},
   "outputs": [],
   "source": [
    "def find_brand_multiplier(b):\n",
    "    df=brand[brand[\"BRAND\"]==b]\n",
    "    total_receipts=df[\"RECEIPTS\"].sum()\n",
    "    df[\"MULTIPLIER\"]=df[\"RECEIPTS\"]/total_receipts\n",
    "    df=df[[\"BRAND_BELONGS_TO_CATEGORY\",\"MULTIPLIER\"]]\n",
    "    return df"
   ]
  },
  {
   "cell_type": "code",
   "execution_count": 3,
   "id": "c72af47f",
   "metadata": {},
   "outputs": [],
   "source": [
    "pattern = r'[^\\w\\s]'\n",
    "\n",
    "brand=pd.read_csv(\"Data/brand_category.csv\")\n",
    "brand[\"BRAND_BELONGS_TO_CATEGORY\"]=brand[\"BRAND_BELONGS_TO_CATEGORY\"].str.lower()\n",
    "brand[\"BRAND\"]=brand[\"BRAND\"].str.lower()\n",
    "brand['BRAND']=brand['BRAND'].astype(str)\n",
    "brand[\"BRAND_BELONGS_TO_CATEGORY\"]=brand[\"BRAND_BELONGS_TO_CATEGORY\"].apply(lambda x: re.sub(pattern, '', x))\n",
    "brand['BRAND']=brand['BRAND'].apply(lambda x: re.sub(pattern, '', x))\n",
    "brand[\"BRAND\"]=brand[\"BRAND\"].apply(str)\n",
    "\n",
    "df=pd.DataFrame()\n",
    "for b in sorted(brand):\n",
    "    df_temp=find_brand_multiplier(b)\n",
    "    df_temp[\"BRAND\"]=b\n",
    "    df = pd.concat([df, df_temp])\n",
    "brand=df.merge(brand,how='right', on=['BRAND','BRAND_BELONGS_TO_CATEGORY'])\n",
    "\n",
    "brand.to_csv(\"Data/brand_category_clean.csv\",index=False)"
   ]
  },
  {
   "cell_type": "code",
   "execution_count": 4,
   "id": "25c22e59",
   "metadata": {},
   "outputs": [],
   "source": [
    "cat=pd.read_csv(\"Data/categories.csv\")\n",
    "cat[\"IS_CHILD_CATEGORY_TO\"]=cat[\"IS_CHILD_CATEGORY_TO\"].str.lower()\n",
    "cat[\"PRODUCT_CATEGORY\"]=cat[\"PRODUCT_CATEGORY\"].str.lower()\n",
    "cat[\"IS_CHILD_CATEGORY_TO\"]=cat[\"IS_CHILD_CATEGORY_TO\"].apply(lambda x: re.sub(pattern, '', x))\n",
    "cat[\"PRODUCT_CATEGORY\"]=cat[\"PRODUCT_CATEGORY\"].apply(lambda x: re.sub(pattern, '', x))\n",
    "cat[\"IS_CHILD_CATEGORY_TO\"]=cat[\"IS_CHILD_CATEGORY_TO\"].apply(lambda x: re.sub(pattern, '', x))\n",
    "cat[\"PRODUCT_CATEGORY\"]=cat[\"PRODUCT_CATEGORY\"].apply(lambda x: re.sub(pattern, '', x))\n",
    "cat.to_csv(\"Data/categories_clean.csv\",index=False)"
   ]
  },
  {
   "cell_type": "code",
   "execution_count": 5,
   "id": "b6288b5a",
   "metadata": {},
   "outputs": [],
   "source": [
    "offer=pd.read_csv(\"Data/offer_retailer.csv\")\n",
    "offer[\"OFFER\"]=offer[\"OFFER\"].str.lower()\n",
    "offer[\"RETAILER\"]=offer[\"RETAILER\"].str.lower()\n",
    "offer[\"BRAND\"]=offer[\"BRAND\"].str.lower()\n",
    "offer[\"RETAILER\"]=offer[\"RETAILER\"].astype(str)\n",
    "offer[\"OFFER\"]=offer[\"OFFER\"].apply(lambda x: re.sub(pattern, '', x))\n",
    "offer[\"RETAILER\"]=offer[\"RETAILER\"].apply(lambda x: re.sub(pattern, '', x))\n",
    "offer[\"BRAND\"]=offer[\"BRAND\"].apply(lambda x: re.sub(pattern, '', x))\n",
    "offer=offer.drop_duplicates()\n",
    "offer=offer.replace('nan','')\n",
    "offer.to_csv(\"Data/offer_retailer_clean.csv\",index=False)"
   ]
  },
  {
   "cell_type": "markdown",
   "id": "122200a5",
   "metadata": {},
   "source": [
    "# Encoding text columns so that I can use semantic similarity later on"
   ]
  },
  {
   "cell_type": "code",
   "execution_count": 6,
   "id": "a6d3312d",
   "metadata": {},
   "outputs": [],
   "source": [
    "from sentence_transformers import SentenceTransformer\n",
    "model = SentenceTransformer('multi-qa-mpnet-base-cos-v1')\n",
    "brand_vectors=model.encode(sorted(list(set(brand[\"BRAND\"].values))))\n",
    "np.save('Data/brand_vectors.npy',brand_vectors)"
   ]
  },
  {
   "cell_type": "code",
   "execution_count": 7,
   "id": "94e97a6f",
   "metadata": {},
   "outputs": [],
   "source": [
    "offer_vectors=model.encode(list(offer['OFFER']))\n",
    "np.save('Data/offer_vectors.npy',offer_vectors)"
   ]
  },
  {
   "cell_type": "code",
   "execution_count": 8,
   "id": "d8825b73",
   "metadata": {},
   "outputs": [],
   "source": [
    "category_vectors=model.encode(list(cat['PRODUCT_CATEGORY']))\n",
    "np.save('Data/category_vectors.npy',category_vectors)"
   ]
  },
  {
   "cell_type": "code",
   "execution_count": 9,
   "id": "e886af9b",
   "metadata": {},
   "outputs": [],
   "source": [
    "retailer_vectors=model.encode(list(offer['RETAILER']))\n",
    "np.save('Data/retailer_vectors.npy',retailer_vectors)"
   ]
  },
  {
   "cell_type": "code",
   "execution_count": 10,
   "id": "48605d1a",
   "metadata": {},
   "outputs": [],
   "source": [
    "offer_brand_vectors=model.encode(list(offer['BRAND']))\n",
    "np.save('Data/offer_brand_vectors.npy',offer_brand_vectors)"
   ]
  }
 ],
 "metadata": {
  "kernelspec": {
   "display_name": "Python 3 (ipykernel)",
   "language": "python",
   "name": "python3"
  },
  "language_info": {
   "codemirror_mode": {
    "name": "ipython",
    "version": 3
   },
   "file_extension": ".py",
   "mimetype": "text/x-python",
   "name": "python",
   "nbconvert_exporter": "python",
   "pygments_lexer": "ipython3",
   "version": "3.11.4"
  }
 },
 "nbformat": 4,
 "nbformat_minor": 5
}
